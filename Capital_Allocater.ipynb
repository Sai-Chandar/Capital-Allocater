{
 "cells": [
  {
   "cell_type": "code",
   "execution_count": 190,
   "metadata": {},
   "outputs": [],
   "source": [
    "from pulp import *\n",
    "import pandas as  pd\n",
    "import numpy as np"
   ]
  },
  {
   "cell_type": "code",
   "execution_count": 191,
   "metadata": {},
   "outputs": [
    {
     "data": {
      "text/html": [
       "<div>\n",
       "<style scoped>\n",
       "    .dataframe tbody tr th:only-of-type {\n",
       "        vertical-align: middle;\n",
       "    }\n",
       "\n",
       "    .dataframe tbody tr th {\n",
       "        vertical-align: top;\n",
       "    }\n",
       "\n",
       "    .dataframe thead th {\n",
       "        text-align: right;\n",
       "    }\n",
       "</style>\n",
       "<table border=\"1\" class=\"dataframe\">\n",
       "  <thead>\n",
       "    <tr style=\"text-align: right;\">\n",
       "      <th></th>\n",
       "      <th>0</th>\n",
       "      <th>%abs_return</th>\n",
       "      <th>beta</th>\n",
       "      <th>EPS_growth</th>\n",
       "      <th>PE</th>\n",
       "    </tr>\n",
       "  </thead>\n",
       "  <tbody>\n",
       "    <tr>\n",
       "      <th>499</th>\n",
       "      <td>XYL</td>\n",
       "      <td>186.985627</td>\n",
       "      <td>1.20</td>\n",
       "      <td>1.074766</td>\n",
       "      <td>24.67</td>\n",
       "    </tr>\n",
       "    <tr>\n",
       "      <th>500</th>\n",
       "      <td>YUM</td>\n",
       "      <td>1157.342959</td>\n",
       "      <td>0.50</td>\n",
       "      <td>1.161111</td>\n",
       "      <td>27.70</td>\n",
       "    </tr>\n",
       "    <tr>\n",
       "      <th>501</th>\n",
       "      <td>ZBH</td>\n",
       "      <td>329.580033</td>\n",
       "      <td>1.14</td>\n",
       "      <td>-4.770115</td>\n",
       "      <td>-</td>\n",
       "    </tr>\n",
       "    <tr>\n",
       "      <th>502</th>\n",
       "      <td>ZION</td>\n",
       "      <td>18.336509</td>\n",
       "      <td>1.56</td>\n",
       "      <td>1.027972</td>\n",
       "      <td>11.50</td>\n",
       "    </tr>\n",
       "    <tr>\n",
       "      <th>503</th>\n",
       "      <td>ZTS</td>\n",
       "      <td>126.296885</td>\n",
       "      <td>0.87</td>\n",
       "      <td>1.411348</td>\n",
       "      <td>44.43</td>\n",
       "    </tr>\n",
       "  </tbody>\n",
       "</table>\n",
       "</div>"
      ],
      "text/plain": [
       "        0  %abs_return  beta  EPS_growth     PE\n",
       "499   XYL   186.985627  1.20    1.074766  24.67\n",
       "500   YUM  1157.342959  0.50    1.161111  27.70\n",
       "501   ZBH   329.580033  1.14   -4.770115      -\n",
       "502  ZION    18.336509  1.56    1.027972  11.50\n",
       "503   ZTS   126.296885  0.87    1.411348  44.43"
      ]
     },
     "execution_count": 191,
     "metadata": {},
     "output_type": "execute_result"
    }
   ],
   "source": [
    "snp = pd.read_csv('snp_beta.csv')\n",
    "\n",
    "snp.tail()"
   ]
  },
  {
   "cell_type": "code",
   "execution_count": 192,
   "metadata": {},
   "outputs": [
    {
     "name": "stdout",
     "output_type": "stream",
     "text": [
      "504\n",
      "454\n"
     ]
    }
   ],
   "source": [
    "print(len(snp))\n",
    "\n",
    "snp.replace('-', np.nan, inplace=True)\n",
    "\n",
    "snp.dropna(inplace=True)\n",
    "\n",
    "print(len(snp))"
   ]
  },
  {
   "cell_type": "code",
   "execution_count": 193,
   "metadata": {},
   "outputs": [],
   "source": [
    "prob = LpProblem('Captial Allocater', LpMaximize)"
   ]
  },
  {
   "cell_type": "code",
   "execution_count": 194,
   "metadata": {},
   "outputs": [
    {
     "name": "stdout",
     "output_type": "stream",
     "text": [
      "[MMM, ABT, ABBV, ABMD, ACN, ATVI, ADBE, AMD, AAP, AES, AFL, A, APD, AKAM, ALK, ALB, ARE, ALXN, ALGN, ALLE, ADS, LNT, ALL, GOOGL, MO, AMZN, AAL, AEP, AXP, AMT, AWK, AMP, ABC, AME, AMGN, APH, ADI, ANSS, ANTM, AON, AOS, AIV, AAPL, AMAT, APTV, ADM, ARNC, AJG, AIZ, ATO, T, ADSK, ADP, AZO, AVB, AVY, BLL, BAC, BK, BAX, BBT, BDX, BBY, BIIB, BLK, HRB, BA, BWA, BXP, BSX, BMY, AVGO, BR, COG, CDNS, CPB, COF, CAH, KMX, CCL, CAT, CBS, CE, CELG, CNC, CNP, CERN, CF, SCHW, CHTR, CVX, CMG, CB, CHD, CI, XEC, CINF, CTAS, CSCO, C, CFG, CTXS, CLX, CME, CMS, KO, CTSH, CL, CMCSA, CMA, CAG, CXO, COP, ED, STZ, COO, CPRT, GLW, COST, CCI, CSX, CMI, CVS, DHI, DHR, DRI, DVA, DE, DAL, XRAY, DVN, FANG, DLR, DFS, DISCA, DISH, DG, D, DOV, DTE, DUK, DRE, DXC, ETFC, EMN, ETN, EBAY, ECL, EW, EA, EMR, ETR, EOG, EQIX, EQR, ESS, EL, ES, RE, EXC, EXPE, EXPD, EXR, XOM, FFIV, FB, FAST, FRT, FDX, FIS, FITB, FE, FRC, FISV, FLT, FLIR, FLS, FMC, F, FTNT, FTV, FBHS, BEN, FCX, GPS, GRMN, IT, GD, GE, GIS, GM, GPC, GILD, GPN, GS, GWW, HAL, HBI, HOG, HIG, HAS, HCA, HCP, HSIC, HSY, HPE, HLT, HFC, HD, HON, HRL, HST, HPQ, HUM, HBAN, HII, IEX, IDXX, INFO, ITW, ILMN, IR, INTC, ICE, IBM, INCY, IP, IPG, IFF, INTU, ISRG, IVZ, IPGP, IQV, IRM, JKHY, JEC, JBHT, SJM, JNJ, JCI, JPM, JNPR, KSU, K, KEY, KMB, KIM, KMI, KLAC, KSS, KR, LB, LH, LRCX, LVS, LEG, LDOS, LEN, LLY, LNC, LKQ, LMT, L, LOW, LYB, MTB, MAC, M, MRO, MPC, MKTX, MAR, MMC, MLM, MAS, MA, MKC, MXIM, MCD, MCK, MDT, MRK, MET, MTD, MGM, MCHP, MU, MSFT, MAA, MHK, TAP, MDLZ, MNST, MCO, MS, MOS, MSI, MSCI, MYL, NDAQ, NTAP, NFLX, NWSA, NEE, NKE, NI, JWN, NSC, NTRS, NOC, NCLH, NRG, NUE, NVDA, NVR, ORLY, OXY, OMC, OKE, ORCL, PCAR, PKG, PH, PAYX, PYPL, PNR, PBCT, PEP, PKI, PRGO, PFE, PM, PSX, PNW, PXD, PNC, PPG, PPL, PFG, PG, PGR, PLD, PRU, PEG, PSA, PHM, PVH, QRVO, PWR, QCOM, DGX, RL, RJF, RTN, O, REG, REGN, RF, RSG, RMD, RHI, ROK, ROL, ROP, ROST, RCL, CRM, SBAC, STX, SEE, SRE, SHW, SPG, SWKS, SLG, SNA, SO, LUV, SPGI, SWK, SBUX, STT, SYK, STI, SIVB, SYMC, SYF, SNPS, SYY, TMUS, TROW, TTWO, TPR, TGT, TEL, TFX, TXN, TXT, TMO, TIF, TWTR, TJX, TSCO, TDG, TRV, TRIP, TSN, UDR, ULTA, USB, UAA, UNP, UAL, UNH, UPS, URI, UTX, UHS, UNM, VFC, VLO, VAR, VTR, VRSN, VRSK, VZ, VRTX, VIAB, V, VNO, VMC, WAB, WMT, WBA, DIS, WM, WAT, WEC, WCG, WFC, WU, WRK, WHR, WMB, WLTW, WYNN, XEL, XRX, XLNX, XYL, YUM, ZION, ZTS]\n"
     ]
    }
   ],
   "source": [
    "decision_variables = []\n",
    "for i in snp['0']:\n",
    "    variables = pulp.LpVariable(str(i),lowBound = 0)\n",
    "    decision_variables.append(variables)\n",
    "print(decision_variables)"
   ]
  },
  {
   "cell_type": "code",
   "execution_count": 195,
   "metadata": {},
   "outputs": [],
   "source": [
    "# decision_variables = []\n",
    "# snp_list = snp['0'].to_list()\n",
    "# variables = pulp.LpVariable.dicts('vars', snp_list, 0)\n",
    "# print(variables)"
   ]
  },
  {
   "cell_type": "code",
   "execution_count": 196,
   "metadata": {},
   "outputs": [],
   "source": [
    "#objective function\n",
    "total_cost = \"\"\n",
    "for variable, rtrn in zip(decision_variables, snp['EPS_growth']):\n",
    "    formula = variable*float(rtrn)\n",
    "    total_cost+= formula \n",
    "# print(str(total_cost))\n",
    "prob += total_cost"
   ]
  },
  {
   "cell_type": "code",
   "execution_count": 197,
   "metadata": {},
   "outputs": [],
   "source": [
    "#constrain 1\n",
    "total_cap = 100000\n",
    "sum_capital = \"\"\n",
    "for variable in decision_variables:\n",
    "    formula  = variable\n",
    "    sum_capital += formula\n",
    "\n",
    "prob += (sum_capital <= total_cap)"
   ]
  },
  {
   "cell_type": "code",
   "execution_count": 198,
   "metadata": {},
   "outputs": [],
   "source": [
    "#constrain 2\n",
    "# Condition to keep portfolio beta under portfolio_beta\n",
    "total_cost = \"\"\n",
    "portfolio_Beta = 0.7\n",
    "for variable, beta in zip(decision_variables, snp['beta']):\n",
    "    mul = abs(float(beta)) - portfolio_Beta\n",
    "    formula = variable*float(mul)\n",
    "    total_cost+= formula\n",
    "\n",
    "prob += (total_cost <= 0)"
   ]
  },
  {
   "cell_type": "code",
   "execution_count": 199,
   "metadata": {},
   "outputs": [],
   "source": [
    "#constrain 3\n",
    "# Condition to keep P/E ratio under portfolio_PE\n",
    "total_cost = \"\"\n",
    "portfolio_PE = 16\n",
    "for variable, PE in zip(decision_variables, snp['PE']):\n",
    "    mul = abs(float(PE)) - portfolio_PE\n",
    "    formula = variable*float(mul)\n",
    "    total_cost+= formula\n",
    "\n",
    "prob += (total_cost <= 0)"
   ]
  },
  {
   "cell_type": "code",
   "execution_count": 200,
   "metadata": {},
   "outputs": [],
   "source": [
    "#constrain 4\n",
    "# Condition to cap investment at 30% for each stock\n",
    "for variable in decision_variables:\n",
    "    prob  += (variable <= 0.3*total_cap)"
   ]
  },
  {
   "cell_type": "code",
   "execution_count": 201,
   "metadata": {},
   "outputs": [],
   "source": [
    "#constrain 5\n",
    "# Condition for profit\n",
    "total_cost = \"\"\n",
    "for variable, rtrn in zip(decision_variables, snp['EPS_growth']):\n",
    "    formula = variable*float(rtrn)\n",
    "    total_cost+= formula \n",
    "\n",
    "prob += (total_cost >= total_cap)"
   ]
  },
  {
   "cell_type": "code",
   "execution_count": 202,
   "metadata": {},
   "outputs": [],
   "source": [
    "# print(prob)"
   ]
  },
  {
   "cell_type": "code",
   "execution_count": 203,
   "metadata": {},
   "outputs": [
    {
     "name": "stdout",
     "output_type": "stream",
     "text": [
      "Status: Optimal\n",
      "Optimal Solution to the problem:  288288.9729709263\n",
      "Individual decision_variables: \n",
      "    name      capital\n",
      "73   CBS    157.06791\n",
      "181  GPS  30000.00000\n",
      "200  HRB   8098.99430\n",
      "246   LB  30000.00000\n",
      "261    M  30000.00000\n",
      "295  MYL   1743.93780\n"
     ]
    }
   ],
   "source": [
    "\n",
    "optimization_result = prob.solve()\n",
    "name = []\n",
    "capital = []\n",
    "assert optimization_result == pulp.LpStatusOptimal\n",
    "print(\"Status:\", LpStatus[prob.status])\n",
    "print(\"Optimal Solution to the problem: \", value(prob.objective))\n",
    "print (\"Individual decision_variables: \")\n",
    "for v in prob.variables():\n",
    "# \tprint(v.name, \"=\", v.varValue)\n",
    "    name.append(v.name)\n",
    "    capital.append(v.varValue)\n",
    "sol = pd.DataFrame({'name':name, 'capital':capital})\n",
    "\n",
    "print(sol[sol['capital'] != 0])"
   ]
  }
 ],
 "metadata": {
  "kernelspec": {
   "display_name": "Python 3",
   "language": "python",
   "name": "python3"
  },
  "language_info": {
   "codemirror_mode": {
    "name": "ipython",
    "version": 3
   },
   "file_extension": ".py",
   "mimetype": "text/x-python",
   "name": "python",
   "nbconvert_exporter": "python",
   "pygments_lexer": "ipython3",
   "version": "3.7.3"
  }
 },
 "nbformat": 4,
 "nbformat_minor": 2
}
